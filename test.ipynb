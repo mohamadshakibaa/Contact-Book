{
 "cells": [
  {
   "cell_type": "code",
   "execution_count": null,
   "id": "3fbe060d",
   "metadata": {},
   "outputs": [],
   "source": [
    "from collections import defaultdict\n",
    "\n",
    "\n",
    "class contant_book:\n",
    "    def __init__(self):\n",
    "        self.contant = defaultdict(dict)\n",
    "\n",
    "    def add_user(self, name, phone=None, Email=None):\n",
    "        if name in self.contant:\n",
    "            print(\"Contant Already Exist.\")\n",
    "            return\n",
    "        \n",
    "        self.contant[name][\"phone\"] = phone\n",
    "        self.contant[name][\"Email\"] = Email\n",
    "        print (\"Contant saved successfully! \")\n",
    "\n",
    "    def view_contant(self):\n",
    "        for name, info in self.contant.items():\n",
    "            print(f'\\n Name : {name}')\n",
    "            print(f'phone: {info[\"phone\"]}')\n",
    "            print(f'Email: {info[\"Email\"]}')\n",
    "            print(\"-\" * 50)\n",
    "\n",
    "    def update_contant(self, name, phone=None, Email=None):\n",
    "        if name not in self.contant:\n",
    "            print(\"Contant not found\")\n",
    "            return\n",
    "        \n",
    "        else:\n",
    "            if phone:\n",
    "                self.contant[name][\"phone\"] = phone\n",
    "            if Email:\n",
    "                self.contant[name][\"Email\"] = Email\n",
    "            \n",
    "            print(\"Contant updated successfully!\")\n",
    "            return\n",
    "        \n",
    "\n",
    "    def delete_contant(self, name):\n",
    "        if name in self.contant:\n",
    "            del self.contant[name]\n",
    "            print(\"Contant deleted successfully! \")\n",
    "        else :\n",
    "            print(\"Contant not found\")\n",
    "\n",
    "        \n"
   ]
  },
  {
   "cell_type": "code",
   "execution_count": 60,
   "id": "2b78eb87",
   "metadata": {},
   "outputs": [],
   "source": [
    "book = contant_book()"
   ]
  },
  {
   "cell_type": "code",
   "execution_count": 61,
   "id": "9c3e3363",
   "metadata": {},
   "outputs": [
    {
     "name": "stdout",
     "output_type": "stream",
     "text": [
      "Contant saved successfully! \n",
      "Contant saved successfully! \n"
     ]
    }
   ],
   "source": [
    "\n",
    "book.add_user(\n",
    "    name=\"ali\",\n",
    "    phone=\"999-999-9999\",\n",
    "    Email=\"eshak@gamil.com\",\n",
    ")\n",
    "book.add_user(\n",
    "    name=\"anan\",\n",
    "    phone=\"333-222-5555\",\n",
    "    Email=\"aaa@gmail.com\"\n",
    ")"
   ]
  },
  {
   "cell_type": "code",
   "execution_count": 62,
   "id": "c64f5eca",
   "metadata": {},
   "outputs": [
    {
     "name": "stdout",
     "output_type": "stream",
     "text": [
      "Name : ali\n",
      "phone: 999-999-9999\n",
      "Email: eshak@gamil.com\n",
      "--------------------------------------------------\n",
      "Name : anan\n",
      "phone: 333-222-5555\n",
      "Email: aaa@gmail.com\n",
      "--------------------------------------------------\n"
     ]
    }
   ],
   "source": [
    "\n",
    "book.view_contant()"
   ]
  },
  {
   "cell_type": "code",
   "execution_count": 66,
   "id": "74fc6ae0",
   "metadata": {},
   "outputs": [
    {
     "name": "stdout",
     "output_type": "stream",
     "text": [
      "Contant updated successfully!\n"
     ]
    }
   ],
   "source": [
    "book.update_contant(name=\"ali\", phone=\"998-777-5555\")"
   ]
  },
  {
   "cell_type": "code",
   "execution_count": 67,
   "id": "0062f7d2",
   "metadata": {},
   "outputs": [
    {
     "name": "stdout",
     "output_type": "stream",
     "text": [
      "Name : ali\n",
      "phone: 998-777-5555\n",
      "Email: eshak@gamil.com\n",
      "--------------------------------------------------\n",
      "Name : anan\n",
      "phone: 333-222-5555\n",
      "Email: aaa@gmail.com\n",
      "--------------------------------------------------\n"
     ]
    }
   ],
   "source": [
    "book.view_contant()"
   ]
  },
  {
   "cell_type": "code",
   "execution_count": null,
   "id": "a987293e",
   "metadata": {},
   "outputs": [],
   "source": [
    "while True:\n",
    "    print(\"Welcome! \")\n",
    "    print(\"1. add contatnt\")\n",
    "    print(\"2. view contants\")\n",
    "    print(\"3. update contant\")\n",
    "    print(\"4. delete contant\")\n",
    "    print(\"5. Exit\")\n",
    "\n",
    "    chose = input(\"which Option? \")\n",
    "\n",
    "    if chose == \"1\" :\n",
    "        pass"
   ]
  },
  {
   "cell_type": "code",
   "execution_count": 2,
   "id": "f4dae45f",
   "metadata": {},
   "outputs": [],
   "source": [
    "from collections import defaultdict\n",
    "\n",
    "\n",
    "class ContactBook:\n",
    "    def __init__(self):\n",
    "        self.contacts = defaultdict(dict)\n",
    "\n",
    "    def add_contact(self, name, phone, email=None):\n",
    "        if name in self.contacts:\n",
    "            print(\"Contact Alredy Exist.\")\n",
    "            return\n",
    "        \n",
    "        self.contacts[name][\"phone\"] = phone\n",
    "        self.contacts[name][\"email\"] = email\n",
    "        print(\"Contact added successfully! \")\n",
    "\n",
    "    def view_contact(self):\n",
    "        for name, info in self.contacts.items():\n",
    "            print(f\"Name : {name}\")\n",
    "            print(f\"Phone : {info['phone']}\")\n",
    "            print(f\"Email : {info['email']}\")\n",
    "            print(\"-\" * 50)\n",
    "\n",
    "    def update_contact(self, name, phone=None, email=None):\n",
    "        if name not in self.contacts:\n",
    "            print(\"Contact not exist\")\n",
    "            return\n",
    "        if name in self.contacts:\n",
    "            if phone :\n",
    "                self.contacts[name][\"phone\"] = phone\n",
    "            if email:\n",
    "                self.contacts[name][\"email\"] = email\n",
    "    \n",
    "    def delete_contact(self, name):\n",
    "        if name in self.contacts:\n",
    "            del self.contacts[name]\n",
    "            print(f'{name} deleted')\n",
    "            return\n",
    "        print(\"Contact not exist\")"
   ]
  },
  {
   "cell_type": "code",
   "execution_count": 3,
   "id": "9fab62f2",
   "metadata": {},
   "outputs": [],
   "source": [
    "book = ContactBook()"
   ]
  },
  {
   "cell_type": "code",
   "execution_count": 4,
   "id": "d5cb878c",
   "metadata": {},
   "outputs": [
    {
     "name": "stdout",
     "output_type": "stream",
     "text": [
      "Contact added successfully! \n"
     ]
    }
   ],
   "source": [
    "book.add_contact(\n",
    "    name=\"Ali\",\n",
    "    phone=\"999-999-9999\",\n",
    "    email=\"mohamad@gmail.com\"\n",
    ")"
   ]
  },
  {
   "cell_type": "code",
   "execution_count": 5,
   "id": "08419b3a",
   "metadata": {},
   "outputs": [
    {
     "name": "stdout",
     "output_type": "stream",
     "text": [
      "Contact added successfully! \n"
     ]
    }
   ],
   "source": [
    "book.add_contact(\n",
    "    name=\"Reza\",\n",
    "    phone=\"888-749-9999\",\n",
    "    email=\"mohamard@gmail.com\"\n",
    ")"
   ]
  },
  {
   "cell_type": "code",
   "execution_count": 6,
   "id": "ea30dafd",
   "metadata": {},
   "outputs": [
    {
     "name": "stdout",
     "output_type": "stream",
     "text": [
      "Name : Ali\n",
      "Phone : 999-999-9999\n",
      "Email : mohamad@gmail.com\n",
      "--------------------------------------------------\n",
      "Name : Reza\n",
      "Phone : 888-749-9999\n",
      "Email : mohamard@gmail.com\n",
      "--------------------------------------------------\n"
     ]
    }
   ],
   "source": [
    "book.view_contact()"
   ]
  },
  {
   "cell_type": "code",
   "execution_count": 7,
   "id": "727fe36c",
   "metadata": {},
   "outputs": [],
   "source": [
    "book.update_contact(\n",
    "    name=\"Reza\",\n",
    "    phone=\"111-111\",\n",
    ")"
   ]
  },
  {
   "cell_type": "code",
   "execution_count": 8,
   "id": "3741665d",
   "metadata": {},
   "outputs": [
    {
     "name": "stdout",
     "output_type": "stream",
     "text": [
      "Name : Ali\n",
      "Phone : 999-999-9999\n",
      "Email : mohamad@gmail.com\n",
      "--------------------------------------------------\n",
      "Name : Reza\n",
      "Phone : 111-111\n",
      "Email : mohamard@gmail.com\n",
      "--------------------------------------------------\n"
     ]
    }
   ],
   "source": [
    "book.view_contact()"
   ]
  },
  {
   "cell_type": "code",
   "execution_count": 9,
   "id": "835e3d56",
   "metadata": {},
   "outputs": [
    {
     "name": "stdout",
     "output_type": "stream",
     "text": [
      "Contact not exist\n"
     ]
    }
   ],
   "source": [
    "book.update_contact(name=\"aa\")"
   ]
  },
  {
   "cell_type": "code",
   "execution_count": 10,
   "id": "a7ca782a",
   "metadata": {},
   "outputs": [
    {
     "name": "stdout",
     "output_type": "stream",
     "text": [
      "Reza deleted\n"
     ]
    }
   ],
   "source": [
    "book.delete_contact(name=\"Reza\")"
   ]
  },
  {
   "cell_type": "code",
   "execution_count": 11,
   "id": "5adac34f",
   "metadata": {},
   "outputs": [
    {
     "name": "stdout",
     "output_type": "stream",
     "text": [
      "Name : Ali\n",
      "Phone : 999-999-9999\n",
      "Email : mohamad@gmail.com\n",
      "--------------------------------------------------\n"
     ]
    }
   ],
   "source": [
    "book.view_contact()"
   ]
  },
  {
   "cell_type": "code",
   "execution_count": 13,
   "id": "f60715e7",
   "metadata": {},
   "outputs": [
    {
     "name": "stdout",
     "output_type": "stream",
     "text": [
      "Welcome! \n",
      "1. add contatnt\n",
      "2. view contants\n",
      "3. update contant\n",
      "4. delete contant\n",
      "5. Exit\n",
      "Contact added successfully! \n",
      "Welcome! \n",
      "1. add contatnt\n",
      "2. view contants\n",
      "3. update contant\n",
      "4. delete contant\n",
      "5. Exit\n",
      "Name : ali\n",
      "Phone : 999-88\n",
      "Email : ali@gmaul.com\n",
      "--------------------------------------------------\n",
      "Welcome! \n",
      "1. add contatnt\n",
      "2. view contants\n",
      "3. update contant\n",
      "4. delete contant\n",
      "5. Exit\n",
      "Welcome! \n",
      "1. add contatnt\n",
      "2. view contants\n",
      "3. update contant\n",
      "4. delete contant\n",
      "5. Exit\n",
      "Name : ali\n",
      "Phone : 999-88\n",
      "Email : allllli@gmail.com\n",
      "--------------------------------------------------\n",
      "Welcome! \n",
      "1. add contatnt\n",
      "2. view contants\n",
      "3. update contant\n",
      "4. delete contant\n",
      "5. Exit\n",
      "Name : ali\n",
      "Phone : 999-88\n",
      "Email : allllli@gmail.com\n",
      "--------------------------------------------------\n",
      "Welcome! \n",
      "1. add contatnt\n",
      "2. view contants\n",
      "3. update contant\n",
      "4. delete contant\n",
      "5. Exit\n",
      "Goodbye.\n"
     ]
    }
   ],
   "source": [
    "book = ContactBook()\n",
    "\n",
    "while True:\n",
    "    print(\"Welcome! \")\n",
    "    print(\"1. add contatnt\")\n",
    "    print(\"2. view contants\")\n",
    "    print(\"3. update contant\")\n",
    "    print(\"4. delete contant\")\n",
    "    print(\"5. Exit\")\n",
    "\n",
    "    chose = input(\"which Option? \")\n",
    "\n",
    "    if chose == \"1\":\n",
    "        name = input(\"whtas your name? \")\n",
    "        phone = input(\"Whats your phone number? \")\n",
    "        email = input(\"Whats your email\")\n",
    "        book.add_contact(name, phone, email)\n",
    "\n",
    "    if chose == \"2\":\n",
    "        book.view_contact()\n",
    "\n",
    "    if chose == \"3\":\n",
    "        name = input(\"WHats your name? \")\n",
    "        phone = input(\"Do you want change your phone number?(if dont want just click Enter.) \")\n",
    "        email = input(\"Do you want change your email?(if dont want just click Enter.) \")\n",
    "        book.update_contact(name, phone, email)\n",
    "\n",
    "    if chose == \"4\":\n",
    "        name = input(\"whats your name? \")\n",
    "        book.delete_contact(name)\n",
    "        \n",
    "    if chose == \"5\":\n",
    "        print(\"Goodbye.\")\n",
    "        break"
   ]
  },
  {
   "cell_type": "code",
   "execution_count": 6,
   "id": "9fac3deb",
   "metadata": {},
   "outputs": [],
   "source": [
    "from collections import defaultdict\n",
    "\n",
    "\n",
    "class ContactBook:\n",
    "    def __init__(self):\n",
    "        self.contacts = defaultdict(dict)\n",
    "\n",
    "    def add_contact(self, name, phone, email=None):\n",
    "        if name in self.contacts:\n",
    "            print(\"Contact Already Exist.\")\n",
    "            return\n",
    "        if not isinstance(name, str):\n",
    "            return 'Please enter your name'\n",
    "        self.name = name\n",
    "        self.contacts[name][\"phone\"] = phone\n",
    "        self.contacts[name][\"email\"] = email\n",
    "        print(\"Contact saved successfully! \")\n",
    "\n",
    "    def view_contacts(self):\n",
    "        for name, idx in self.contacts.items():\n",
    "            print(f\"Name: {name}\")\n",
    "            print(f\"Phone: {idx['phone']}\")\n",
    "            print(f\"Email: {idx['email']}\")\n",
    "            print(\"-\" * 50)\n",
    "\n",
    "    def update_contact(self, name, phone=None, email=None):\n",
    "        if name not in self.contacts:\n",
    "            print(\"Cotact not found\")\n",
    "        \n",
    "        if phone:\n",
    "            self.contacts[name][\"phone\"] = phone\n",
    "            print(\"change phone number\")\n",
    "        if email:\n",
    "            self.contacts[name][\"email\"] = email\n",
    "            print(\"change email\")\n",
    "\n",
    "    def delete_contact(self, name):\n",
    "        if name not in self.contacts:\n",
    "            print(\"Contact not found\")\n",
    "        del self.contacts[name]\n",
    "        print(\"Contact deleted\")\n",
    "        return \n"
   ]
  },
  {
   "cell_type": "code",
   "execution_count": 7,
   "id": "39953d76",
   "metadata": {},
   "outputs": [],
   "source": [
    "book = ContactBook()"
   ]
  },
  {
   "cell_type": "code",
   "execution_count": 10,
   "id": "6a4a4818",
   "metadata": {},
   "outputs": [
    {
     "data": {
      "text/plain": [
       "'Please enter your name'"
      ]
     },
     "execution_count": 10,
     "metadata": {},
     "output_type": "execute_result"
    }
   ],
   "source": [
    "book.add_contact(\n",
    "    name=3,\n",
    "    phone=\"999-999-9999\",\n",
    "    email=\"ali@gmail.com\"\n",
    ")"
   ]
  },
  {
   "cell_type": "code",
   "execution_count": 12,
   "id": "c4f7d422",
   "metadata": {},
   "outputs": [
    {
     "name": "stdout",
     "output_type": "stream",
     "text": [
      "Name: Ali\n",
      "Phone: 999-999-9999\n",
      "Email: ali@gmail.com\n",
      "--------------------------------------------------\n"
     ]
    }
   ],
   "source": [
    "book.view_contacts()"
   ]
  },
  {
   "cell_type": "code",
   "execution_count": 13,
   "id": "41c6f5a2",
   "metadata": {},
   "outputs": [
    {
     "name": "stdout",
     "output_type": "stream",
     "text": [
      "change phone number\n",
      "change email\n"
     ]
    }
   ],
   "source": [
    "book.update_contact(\n",
    "    name=\"Ali\",\n",
    "    phone=\"999999\",\n",
    "    email=\"kk\"\n",
    ")"
   ]
  },
  {
   "cell_type": "code",
   "execution_count": 14,
   "id": "00f66a4b",
   "metadata": {},
   "outputs": [
    {
     "name": "stdout",
     "output_type": "stream",
     "text": [
      "Name: Ali\n",
      "Phone: 999999\n",
      "Email: kk\n",
      "--------------------------------------------------\n"
     ]
    }
   ],
   "source": [
    "book.view_contacts()"
   ]
  },
  {
   "cell_type": "code",
   "execution_count": 15,
   "id": "0b91d853",
   "metadata": {},
   "outputs": [
    {
     "name": "stdout",
     "output_type": "stream",
     "text": [
      "Contact deleted\n"
     ]
    }
   ],
   "source": [
    "book.delete_contact(name=\"Ali\")"
   ]
  },
  {
   "cell_type": "code",
   "execution_count": 16,
   "id": "8ae5f115",
   "metadata": {},
   "outputs": [],
   "source": [
    "book.view_contacts()"
   ]
  },
  {
   "cell_type": "code",
   "execution_count": 4,
   "id": "907e6b4f",
   "metadata": {},
   "outputs": [
    {
     "name": "stdout",
     "output_type": "stream",
     "text": [
      "not string\n"
     ]
    }
   ],
   "source": [
    "name = 99\n",
    "\n",
    "\n",
    "\n",
    "if isinstance(name, str):\n",
    "    print(\"hello\")\n",
    "print(\"not string\")"
   ]
  }
 ],
 "metadata": {
  "kernelspec": {
   "display_name": "tmp",
   "language": "python",
   "name": "python3"
  },
  "language_info": {
   "codemirror_mode": {
    "name": "ipython",
    "version": 3
   },
   "file_extension": ".py",
   "mimetype": "text/x-python",
   "name": "python",
   "nbconvert_exporter": "python",
   "pygments_lexer": "ipython3",
   "version": "3.10.18"
  }
 },
 "nbformat": 4,
 "nbformat_minor": 5
}
